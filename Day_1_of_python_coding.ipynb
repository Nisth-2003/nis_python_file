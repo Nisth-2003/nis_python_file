{
  "nbformat": 4,
  "nbformat_minor": 0,
  "metadata": {
    "colab": {
      "provenance": [],
      "history_visible": true,
      "authorship_tag": "ABX9TyO9Xmm7DEDRgeDReNWg7Baz",
      "include_colab_link": true
    },
    "kernelspec": {
      "name": "python3",
      "display_name": "Python 3"
    },
    "language_info": {
      "name": "python"
    }
  },
  "cells": [
    {
      "cell_type": "markdown",
      "metadata": {
        "id": "view-in-github",
        "colab_type": "text"
      },
      "source": [
        "<a href=\"https://colab.research.google.com/github/Nisth-2003/nis_python_file/blob/main/Day_1_of_python_coding.ipynb\" target=\"_parent\"><img src=\"https://colab.research.google.com/assets/colab-badge.svg\" alt=\"Open In Colab\"/></a>"
      ]
    },
    {
      "cell_type": "code",
      "execution_count": null,
      "metadata": {
        "colab": {
          "base_uri": "https://localhost:8080/"
        },
        "id": "Sz0wKBkpmZmM",
        "outputId": "a8aa5cca-c3b6-4064-9d44-3f0baa1b649a"
      },
      "outputs": [
        {
          "output_type": "stream",
          "name": "stdout",
          "text": [
            "Hello World!\n"
          ]
        }
      ],
      "source": [
        "#print hello world\n",
        "print(\"Hello World!\")"
      ]
    },
    {
      "cell_type": "code",
      "source": [
        "#add two numbers\n",
        "a=10\n",
        "b=30\n",
        "print(a+b)"
      ],
      "metadata": {
        "colab": {
          "base_uri": "https://localhost:8080/"
        },
        "id": "eMKAhqQem3Vw",
        "outputId": "2e84b59c-86c0-47cc-d70e-ec9ba8e64749"
      },
      "execution_count": null,
      "outputs": [
        {
          "output_type": "stream",
          "name": "stdout",
          "text": [
            "40\n"
          ]
        }
      ]
    },
    {
      "cell_type": "code",
      "source": [
        "#square root\n",
        "a=int(input(\"Enter a number:\"))\n",
        "print(a**0.5)"
      ],
      "metadata": {
        "colab": {
          "base_uri": "https://localhost:8080/"
        },
        "id": "-RnEktFwm_Sj",
        "outputId": "bc6a06a4-fd5f-41e3-8bcf-a3dfa626de22"
      },
      "execution_count": null,
      "outputs": [
        {
          "output_type": "stream",
          "name": "stdout",
          "text": [
            "Enter a number:4\n",
            "2.0\n"
          ]
        }
      ]
    },
    {
      "cell_type": "code",
      "source": [
        "#area of triangle\n",
        "a=int(input(\"Enter a:\"))\n",
        "b=int(input(\"Enter b:\"))\n",
        "c=int(input(\"Enter c:\"))\n",
        "s=(a+b+c)/2\n",
        "area=(s*(s-a)*(s-b)*(s-c))**0.5\n",
        "print(area)"
      ],
      "metadata": {
        "colab": {
          "base_uri": "https://localhost:8080/"
        },
        "id": "kbqSITmfnwQb",
        "outputId": "30b4ee28-c10c-4db8-aa7b-18603e15b06a"
      },
      "execution_count": null,
      "outputs": [
        {
          "output_type": "stream",
          "name": "stdout",
          "text": [
            "Enter a:3\n",
            "Enter b:3\n",
            "Enter c:3\n",
            "3.897114317029974\n"
          ]
        }
      ]
    },
    {
      "cell_type": "code",
      "source": [
        "a=int(input(\"Enter a:\"))\n",
        "b=int(input(\"Enter b:\"))\n",
        "c=int(input(\"Enter c:\"))\n",
        "print(a)\n",
        "print(b)\n",
        "print(c)\n",
        "#print(a\"x^2\"+b\"x\"+c)\n",
        "roots=(((-b)+(b**2-4*a*c))/(2*a))**0.5\n",
        "print(roots)"
      ],
      "metadata": {
        "colab": {
          "base_uri": "https://localhost:8080/"
        },
        "id": "EbnP1kQiomw-",
        "outputId": "5ba3b4a3-d968-4d38-8fdf-72d646386b02"
      },
      "execution_count": null,
      "outputs": [
        {
          "output_type": "stream",
          "name": "stdout",
          "text": [
            "Enter a:1\n",
            "Enter b:2\n",
            "Enter c:1\n",
            "1\n",
            "2\n",
            "1\n",
            "(6.123233995736766e-17+1j)\n"
          ]
        }
      ]
    },
    {
      "cell_type": "code",
      "source": [],
      "metadata": {
        "id": "pepCNt9kurS7"
      },
      "execution_count": null,
      "outputs": []
    }
  ]
}