{
  "nbformat": 4,
  "nbformat_minor": 0,
  "metadata": {
    "colab": {
      "provenance": [],
      "authorship_tag": "ABX9TyNqIIeC5X9GrE3ZDLzKZNk9",
      "include_colab_link": true
    },
    "kernelspec": {
      "name": "python3",
      "display_name": "Python 3"
    },
    "language_info": {
      "name": "python"
    }
  },
  "cells": [
    {
      "cell_type": "markdown",
      "metadata": {
        "id": "view-in-github",
        "colab_type": "text"
      },
      "source": [
        "<a href=\"https://colab.research.google.com/github/Nisth-2003/nis_python_file/blob/main/Day_3_of_python_.ipynb\" target=\"_parent\"><img src=\"https://colab.research.google.com/assets/colab-badge.svg\" alt=\"Open In Colab\"/></a>"
      ]
    },
    {
      "cell_type": "code",
      "execution_count": null,
      "metadata": {
        "colab": {
          "base_uri": "https://localhost:8080/"
        },
        "id": "bxww3no6WS7j",
        "outputId": "9a421f3a-b35b-4972-8578-3074e79079e7"
      },
      "outputs": [
        {
          "output_type": "stream",
          "name": "stdout",
          "text": [
            "Enter a number:-56\n",
            "negtive number\n"
          ]
        }
      ],
      "source": [
        "#check a number whether it is postive,negative or zero\n",
        "a=int(input(\"Enter a number:\"))\n",
        "if (a>0):\n",
        "  print(\"positive number\")\n",
        "elif (a<0):\n",
        "  print(\"negtive number\")\n",
        "else:\n",
        "  print(\"zero\")"
      ]
    },
    {
      "cell_type": "code",
      "source": [
        "#number is odd or  even\n",
        "a=int(input(\"Enter a number:\"))\n",
        "if (a%2==0):\n",
        "  print(\"It is even number\")\n",
        "else:\n",
        "  print(\"It is an odd number\")"
      ],
      "metadata": {
        "colab": {
          "base_uri": "https://localhost:8080/"
        },
        "id": "Dw5lqO5dXdgx",
        "outputId": "fc8d6d20-32f3-4a3b-d999-a674c4ff0ba8"
      },
      "execution_count": null,
      "outputs": [
        {
          "output_type": "stream",
          "name": "stdout",
          "text": [
            "Enter a number:200000000000000056894\n",
            "It is even number\n"
          ]
        }
      ]
    },
    {
      "cell_type": "code",
      "source": [
        "#checkwhether it is leap year or not\n",
        "a=int(input(\"Enter year:\"))\n",
        "if (a%4==0):\n",
        "  print(\"it is a leap year\")\n",
        "else:\n",
        "  print(\"its not a leap year\")"
      ],
      "metadata": {
        "colab": {
          "base_uri": "https://localhost:8080/"
        },
        "id": "G3hTPNdyX-_T",
        "outputId": "347d5a6d-54d0-458c-90fe-e02b7f3abe4f"
      },
      "execution_count": null,
      "outputs": [
        {
          "output_type": "stream",
          "name": "stdout",
          "text": [
            "Enter year:2024\n",
            "it is a leap year\n"
          ]
        }
      ]
    },
    {
      "cell_type": "code",
      "source": [
        "#finding largest number\n",
        "a=int(input(\"Enter a:\"))\n",
        "b=int(input(\"Enter b:\"))\n",
        "c=int(input(\"Enter c:\"))\n",
        "if (a>b & a>c):\n",
        "  print(\"a is greatest among all numbers:\",a)\n",
        "elif (b>a & b>c):\n",
        "  print(\"b is greatest:\",b)\n",
        "else:\n",
        "  print(\"c is \", c)"
      ],
      "metadata": {
        "colab": {
          "base_uri": "https://localhost:8080/"
        },
        "id": "YIjjf90DYpuN",
        "outputId": "452dee4c-1d2e-4e3c-956d-0a43194ca8a3"
      },
      "execution_count": null,
      "outputs": [
        {
          "output_type": "stream",
          "name": "stdout",
          "text": [
            "Enter a:2\n",
            "Enter b:3\n",
            "Enter c:4\n",
            "c is  4\n"
          ]
        }
      ]
    },
    {
      "cell_type": "code",
      "source": [
        "#checking of prime numbers\n",
        "a=int(input(\"Enter a number:\"))\n",
        "if (a==0 or a==1):\n",
        "  print(a, \"is not prime number\")\n",
        "elif (a>1):\n",
        "  for i in range(2,a):\n",
        "    if(a%i==0):\n",
        "      print(a, \" is not prime number\")\n",
        "      break\n",
        "  else:\n",
        "    print(a,\"is prime\")\n",
        "else:\n",
        "  print(a,\"is not a prime\")"
      ],
      "metadata": {
        "colab": {
          "base_uri": "https://localhost:8080/"
        },
        "id": "3o3AMbvZaN9C",
        "outputId": "cbe7dcd0-e00e-461d-b2d4-cb16ce457e12"
      },
      "execution_count": null,
      "outputs": [
        {
          "output_type": "stream",
          "name": "stdout",
          "text": [
            "Enter a number:56\n",
            "56  is not prime number\n",
            "56  is not prime number\n",
            "56  is not prime number\n",
            "56  is not prime number\n",
            "56  is not prime number\n",
            "56  is not prime number\n",
            "56 is prime\n"
          ]
        }
      ]
    },
    {
      "cell_type": "code",
      "source": [],
      "metadata": {
        "id": "DyBmaMLPh8Is"
      },
      "execution_count": null,
      "outputs": []
    }
  ]
}