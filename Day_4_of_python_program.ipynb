{
  "nbformat": 4,
  "nbformat_minor": 0,
  "metadata": {
    "colab": {
      "provenance": [],
      "authorship_tag": "ABX9TyNwJPDNCqd5EYYYDXklTBm9",
      "include_colab_link": true
    },
    "kernelspec": {
      "name": "python3",
      "display_name": "Python 3"
    },
    "language_info": {
      "name": "python"
    }
  },
  "cells": [
    {
      "cell_type": "markdown",
      "metadata": {
        "id": "view-in-github",
        "colab_type": "text"
      },
      "source": [
        "<a href=\"https://colab.research.google.com/github/Nisth-2003/nis_python_file/blob/main/Day_4_of_python_program.ipynb\" target=\"_parent\"><img src=\"https://colab.research.google.com/assets/colab-badge.svg\" alt=\"Open In Colab\"/></a>"
      ]
    },
    {
      "cell_type": "code",
      "execution_count": null,
      "metadata": {
        "colab": {
          "base_uri": "https://localhost:8080/"
        },
        "collapsed": true,
        "id": "y6yOdOv8m9cf",
        "outputId": "1efc3ac4-3453-44c7-851e-c2bf448a68d9"
      },
      "outputs": [
        {
          "output_type": "stream",
          "name": "stdout",
          "text": [
            "Enter a  number:29\n",
            "no. is prime\n"
          ]
        }
      ],
      "source": [
        "# to check prime number\n",
        "a=int(input(\"Enter a  number:\"))\n",
        "if (a==1 & a==0):\n",
        "    print(\"no. is not prime\",a)\n",
        "elif (a>1):\n",
        "    for i in range(2,a):\n",
        "      if(a%i==0):\n",
        "        print(\"no. is not prime\")\n",
        "        break\n",
        "    else:\n",
        "      print(\"no. is prime\")\n",
        "else:\n",
        "  print(\"no. is not prime\")"
      ]
    },
    {
      "cell_type": "code",
      "source": [
        "#prime number in an interval\n",
        "lower_number=int(input(\"Enter lower number:\"))\n",
        "upper_number=int(input(\"Enter upper number:\"))\n",
        "for i in range(lower_number,upper_number):\n",
        "\n",
        "  if(i>1):\n",
        "    for j in range(2,i):\n",
        "      if(i%j==0):\n",
        "       # print(\"no. is not prime\")\n",
        "        break\n",
        "    else:\n",
        "      print(i, \"is prime\")\n",
        "#else:\n",
        " # print(\"no. is not prime\")"
      ],
      "metadata": {
        "colab": {
          "base_uri": "https://localhost:8080/"
        },
        "id": "qa7Ps5KIo7L0",
        "outputId": "aae54955-f61d-492b-c5e4-937591c59a1d"
      },
      "execution_count": null,
      "outputs": [
        {
          "output_type": "stream",
          "name": "stdout",
          "text": [
            "Enter lower number:1\n",
            "Enter upper number:10\n",
            "2 is prime\n",
            "3 is prime\n",
            "5 is prime\n",
            "7 is prime\n"
          ]
        }
      ]
    },
    {
      "cell_type": "code",
      "source": [
        "#factorial of a number\n",
        "a=int(input(\"Enter a number:\"))\n",
        "fact=1\n",
        "if (a==0):\n",
        "  print(\"factorial is 1\")\n",
        "elif (a<0):\n",
        "  print(\"no factorial exists\")\n",
        "else:\n",
        "  for i in range(1,a):\n",
        "    factorial=factorial*i\n",
        "    print(factorial)"
      ],
      "metadata": {
        "colab": {
          "base_uri": "https://localhost:8080/"
        },
        "id": "uuOuh0KjsC8l",
        "outputId": "66894d1d-2de4-467a-eff0-3847bf4075de"
      },
      "execution_count": null,
      "outputs": [
        {
          "output_type": "stream",
          "name": "stdout",
          "text": [
            "Enter a number:3\n",
            "3\n",
            "6\n"
          ]
        }
      ]
    }
  ]
}